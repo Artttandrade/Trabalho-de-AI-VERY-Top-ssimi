{
 "cells": [
  {
   "cell_type": "code",
   "execution_count": 1,
   "metadata": {
    "colab": {
     "base_uri": "https://localhost:8080/",
     "height": 340
    },
    "colab_type": "code",
    "id": "_11yMghSpS6h",
    "outputId": "c7d8e775-5752-4b12-d16c-706d3fa91911"
   },
   "outputs": [
    {
     "name": "stderr",
     "output_type": "stream",
     "text": [
      "Using TensorFlow backend.\n",
      "/home/icomp/anaconda3/lib/python3.7/site-packages/tensorflow/python/framework/dtypes.py:516: FutureWarning: Passing (type, 1) or '1type' as a synonym of type is deprecated; in a future version of numpy, it will be understood as (type, (1,)) / '(1,)type'.\n",
      "  _np_qint8 = np.dtype([(\"qint8\", np.int8, 1)])\n",
      "/home/icomp/anaconda3/lib/python3.7/site-packages/tensorflow/python/framework/dtypes.py:517: FutureWarning: Passing (type, 1) or '1type' as a synonym of type is deprecated; in a future version of numpy, it will be understood as (type, (1,)) / '(1,)type'.\n",
      "  _np_quint8 = np.dtype([(\"quint8\", np.uint8, 1)])\n",
      "/home/icomp/anaconda3/lib/python3.7/site-packages/tensorflow/python/framework/dtypes.py:518: FutureWarning: Passing (type, 1) or '1type' as a synonym of type is deprecated; in a future version of numpy, it will be understood as (type, (1,)) / '(1,)type'.\n",
      "  _np_qint16 = np.dtype([(\"qint16\", np.int16, 1)])\n",
      "/home/icomp/anaconda3/lib/python3.7/site-packages/tensorflow/python/framework/dtypes.py:519: FutureWarning: Passing (type, 1) or '1type' as a synonym of type is deprecated; in a future version of numpy, it will be understood as (type, (1,)) / '(1,)type'.\n",
      "  _np_quint16 = np.dtype([(\"quint16\", np.uint16, 1)])\n",
      "/home/icomp/anaconda3/lib/python3.7/site-packages/tensorflow/python/framework/dtypes.py:520: FutureWarning: Passing (type, 1) or '1type' as a synonym of type is deprecated; in a future version of numpy, it will be understood as (type, (1,)) / '(1,)type'.\n",
      "  _np_qint32 = np.dtype([(\"qint32\", np.int32, 1)])\n",
      "/home/icomp/anaconda3/lib/python3.7/site-packages/tensorflow/python/framework/dtypes.py:525: FutureWarning: Passing (type, 1) or '1type' as a synonym of type is deprecated; in a future version of numpy, it will be understood as (type, (1,)) / '(1,)type'.\n",
      "  np_resource = np.dtype([(\"resource\", np.ubyte, 1)])\n",
      "/home/icomp/anaconda3/lib/python3.7/site-packages/tensorboard/compat/tensorflow_stub/dtypes.py:541: FutureWarning: Passing (type, 1) or '1type' as a synonym of type is deprecated; in a future version of numpy, it will be understood as (type, (1,)) / '(1,)type'.\n",
      "  _np_qint8 = np.dtype([(\"qint8\", np.int8, 1)])\n",
      "/home/icomp/anaconda3/lib/python3.7/site-packages/tensorboard/compat/tensorflow_stub/dtypes.py:542: FutureWarning: Passing (type, 1) or '1type' as a synonym of type is deprecated; in a future version of numpy, it will be understood as (type, (1,)) / '(1,)type'.\n",
      "  _np_quint8 = np.dtype([(\"quint8\", np.uint8, 1)])\n",
      "/home/icomp/anaconda3/lib/python3.7/site-packages/tensorboard/compat/tensorflow_stub/dtypes.py:543: FutureWarning: Passing (type, 1) or '1type' as a synonym of type is deprecated; in a future version of numpy, it will be understood as (type, (1,)) / '(1,)type'.\n",
      "  _np_qint16 = np.dtype([(\"qint16\", np.int16, 1)])\n",
      "/home/icomp/anaconda3/lib/python3.7/site-packages/tensorboard/compat/tensorflow_stub/dtypes.py:544: FutureWarning: Passing (type, 1) or '1type' as a synonym of type is deprecated; in a future version of numpy, it will be understood as (type, (1,)) / '(1,)type'.\n",
      "  _np_quint16 = np.dtype([(\"quint16\", np.uint16, 1)])\n",
      "/home/icomp/anaconda3/lib/python3.7/site-packages/tensorboard/compat/tensorflow_stub/dtypes.py:545: FutureWarning: Passing (type, 1) or '1type' as a synonym of type is deprecated; in a future version of numpy, it will be understood as (type, (1,)) / '(1,)type'.\n",
      "  _np_qint32 = np.dtype([(\"qint32\", np.int32, 1)])\n",
      "/home/icomp/anaconda3/lib/python3.7/site-packages/tensorboard/compat/tensorflow_stub/dtypes.py:550: FutureWarning: Passing (type, 1) or '1type' as a synonym of type is deprecated; in a future version of numpy, it will be understood as (type, (1,)) / '(1,)type'.\n",
      "  np_resource = np.dtype([(\"resource\", np.ubyte, 1)])\n"
     ]
    }
   ],
   "source": [
    "from numpy import loadtxt\n",
    "import numpy as np\n",
    "from keras.models import Sequential, Model\n",
    "from keras.layers import Dense, Input, Add\n",
    "import keras\n",
    "from keras.utils import plot_model\n",
    "import keras.backend as K\n",
    "\n",
    "opt = keras.optimizers.SGD(learning_rate=0.01, momentum=0.01, nesterov=False)"
   ]
  },
  {
   "cell_type": "code",
   "execution_count": 3,
   "metadata": {
    "colab": {
     "base_uri": "https://localhost:8080/",
     "height": 71
    },
    "colab_type": "code",
    "id": "X3iqfr8Npn7O",
    "outputId": "8c4ce337-51e5-471c-a898-6687bd6beff4"
   },
   "outputs": [],
   "source": [
    "model1 = Sequential()\n",
    "model2 = Sequential()\n",
    "model3 = Sequential()\n",
    "model4 = Sequential()\n",
    "model5 = Sequential()\n",
    "model6 = Sequential()\n",
    "model7 = Sequential()\n",
    "model8 = Sequential()\n",
    "model9 = Sequential()\n",
    "model10 = Sequential()\n",
    "model11 = Sequential()"
   ]
  },
  {
   "cell_type": "code",
   "execution_count": 6,
   "metadata": {
    "colab": {},
    "colab_type": "code",
    "id": "-o5raWvpxIaz"
   },
   "outputs": [],
   "source": [
    "dataset = np.loadtxt('trains.csv', delimiter=',')\n",
    "input_model1 = []\n",
    "input_model2 = []\n",
    "input_model3 = []\n",
    "input_model4 = []\n",
    "input_model5 = []\n",
    "input_model6 = []\n",
    "input_model7 = []\n",
    "input_model8 = []\n",
    "input_model9 = []\n",
    "input_model10 = []\n",
    "input_model11 = []\n",
    "\n",
    "for i in range(len(dataset)):\n",
    "  input_model1.append([i, dataset[i][0]])\n",
    "  input_model2.append([i, dataset[i][1]])\n",
    "  num_wheels = 2\n",
    "  length = 3\n",
    "  shape = 4\n",
    "  num_loads = 5\n",
    "  load_shape = 6\n",
    "  for j in range(1,int(dataset[i][0])):\n",
    "    input_model3.append([i, j, dataset[i][num_wheels]])\n",
    "    num_wheels += 5\n",
    "\n",
    "    input_model4.append([i, j, dataset[i][length]])\n",
    "    length += 5\n",
    "\n",
    "    input_model5.append([i, j, dataset[i][shape]])\n",
    "    shape += 5\n",
    "\n",
    "    input_model6.append([i, j, dataset[i][num_loads]])\n",
    "    num_loads += 5\n",
    "\n",
    "    input_model7.append([i, j, dataset[i][load_shape]])\n",
    "\n",
    "    if (dataset[i][load_shape] == 2):\n",
    "      if j > 1:\n",
    "        if [i,j-1, 1] not in input_model8:\n",
    "          input_model8.append([i, j-1, 1])\n",
    "      if j< dataset[i][0]-1:\n",
    "        if [i,j+1, 1] not in input_model8:\n",
    "          input_model8.append([i, j+1, 1])\n",
    "    if (dataset[i][load_shape] == 1):\n",
    "      if j > 1:\n",
    "        if [i,j-1, 1] not in input_model9:\n",
    "          input_model9.append([i, j-1, 1])\n",
    "      if j< dataset[i][0]-1:\n",
    "        if [i,j+1, 1] not in input_model9:\n",
    "          input_model9.append([i, j+1, 1])\n",
    "    if (dataset[i][load_shape] == 4):\n",
    "      if j > 1:\n",
    "        if [i,j-1, 1] not in input_model10:\n",
    "          input_model10.append([i, j-1, 1])\n",
    "      if j< dataset[i][0]-1:\n",
    "        if [i,j+1, 1] not in input_model10:\n",
    "          input_model10.append([i, j+1, 1])\n",
    "    if (dataset[i][load_shape] == 4):\n",
    "      if j > 1:\n",
    "        if [i,j-1, 1] not in input_model11:\n",
    "          input_model11.append([i, j-1, 1])\n",
    "      if j< dataset[i][0]-1:\n",
    "        if [i,j+1, 1] not in input_model11:\n",
    "          input_model11.append([i, j+1, 1])\n",
    "    load_shape += 5\n",
    "  for j in range(1,int(dataset[i][0])):\n",
    "    if [i,j, 1] not in input_model8:\n",
    "      input_model8.append([i, j, -1])\n",
    "    if [i,j, 1] not in input_model9:\n",
    "      input_model9.append([i, j, -1])\n",
    "    if [i,j, 1] not in input_model10:\n",
    "      input_model10.append([i, j, -1])\n",
    "    if [i,j, 1] not in input_model11:\n",
    "      input_model11.append([i, j, -1])\n",
    "\n"
   ]
  },
  {
   "cell_type": "code",
   "execution_count": 43,
   "metadata": {
    "colab": {},
    "colab_type": "code",
    "id": "6WBFVOneqEDz"
   },
   "outputs": [
    {
     "name": "stdout",
     "output_type": "stream",
     "text": [
      "10/10 [==============================] - 1s 68ms/step\n",
      "Mse: 0.00\n",
      "0.959244 (expected 1)\n",
      "0.959244 (expected 1)\n",
      "0.959244 (expected 1)\n",
      "0.959244 (expected 1)\n",
      "0.959244 (expected 1)\n",
      "0.959244 (expected 1)\n",
      "0.959244 (expected 1)\n",
      "0.959244 (expected 1)\n",
      "0.959244 (expected 1)\n",
      "0.959244 (expected 1)\n",
      "[array([[ 2.0797342e-01, -4.2076042e-01,  2.0489527e-01, -2.5442106e-01,\n",
      "         2.9089180e-04,  8.4866703e-02,  1.8293522e-01, -1.9516011e-01,\n",
      "        -1.7881367e-01,  3.6589891e-01, -1.9058423e-02, -1.0534648e-01,\n",
      "        -6.6328794e-02,  3.9619094e-01, -1.3023807e-01,  4.1776708e-01,\n",
      "         8.3002895e-02, -1.9153175e-01, -3.3398557e-01, -1.2576541e-01],\n",
      "       [-2.2032744e-01, -2.7702546e-01,  5.1115453e-01,  4.6374857e-01,\n",
      "         3.1109852e-01, -2.3396645e-02, -2.1958052e-01,  4.8391020e-01,\n",
      "         2.0165356e-01,  1.3193253e-01, -1.6004139e-01, -4.7574565e-01,\n",
      "        -1.9576810e-02,  4.2173211e-02, -2.4165703e-01,  3.2822108e-01,\n",
      "         3.0153248e-01,  1.4035101e-01, -1.9589718e-01,  5.1406854e-01]],\n",
      "      dtype=float32), array([ 0.00476491,  0.03847561,  0.03324168, -0.000719  ,  0.00875413,\n",
      "       -0.02036989,  0.00713479,  0.01852708,  0.005393  , -0.00263269,\n",
      "        0.00154397,  0.01479117,  0.02528946,  0.00517026,  0.01572513,\n",
      "       -0.03468906,  0.01710912, -0.00034214,  0.02823356,  0.00897203],\n",
      "      dtype=float32)]\n"
     ]
    }
   ],
   "source": [
    "#model.compile(loss='binary_crossentropy', optimizer=\"adam\", metrics=['mse'])\n",
    "\n",
    "y_model1 = [];\n",
    "\n",
    "for i in range(len(input_model1)):\n",
    "  y_model1.append(1)\n",
    "\n",
    "model1.add(Dense(20, input_dim=2, activation='linear'))\n",
    "model1.add(Dense(1, activation='tanh'))\n",
    "\n",
    "model1.compile(loss='mse', optimizer=opt, metrics=['mse'])\n",
    "\n",
    "#model.fit(X, y, epochs=10000, batch_size=9, verbose=0)\n",
    "model1.fit(np.array(input_model1), y_model1, epochs=300, batch_size=9, verbose=0)\n",
    "\n",
    "_, accuracy = model1.evaluate(np.array(input_model1), y_model1)\n",
    "print('Mse: %.2f' % (accuracy))\n",
    "\n",
    "# make class predictions with the model\n",
    "predictions = model1.predict(np.array(input_model1))\n",
    "# summarize the first 5 cases\n",
    "for i in range(10):\n",
    "    print('%f (expected %d)' % (predictions[i], y_model1[i]))\n",
    "\n",
    "print(model1.layers[1].get_weights())"
   ]
  },
  {
   "cell_type": "code",
   "execution_count": 21,
   "metadata": {
    "colab": {},
    "colab_type": "code",
    "id": "SdTZ8PBTwwwN"
   },
   "outputs": [
    {
     "name": "stdout",
     "output_type": "stream",
     "text": [
      "10/10 [==============================] - 0s 7ms/step\n",
      "Mse: 0.00\n",
      "0.967003 (expected 1)\n",
      "0.985620 (expected 1)\n",
      "0.993766 (expected 1)\n",
      "0.998983 (expected 1)\n",
      "0.999938 (expected 1)\n",
      "0.999973 (expected 1)\n",
      "0.999996 (expected 1)\n",
      "0.999999 (expected 1)\n",
      "1.000000 (expected 1)\n",
      "1.000000 (expected 1)\n"
     ]
    }
   ],
   "source": [
    "y_model2 = []\n",
    "\n",
    "for i in range(len(input_model2)):\n",
    "  y_model2.append(1)\n",
    "\n",
    "model2.add(Dense(20, input_dim=2, activation='linear'))\n",
    "model2.add(Dense(1, activation='tanh'))\n",
    "\n",
    "model2.compile(loss='mse', optimizer=opt, metrics=['mse'])\n",
    "\n",
    "model2.fit(np.array(input_model2), y_model2, epochs=300, batch_size=9, verbose=0)\n",
    "\n",
    "_, accuracy = model2.evaluate(np.array(input_model2), y_model2)\n",
    "print('Mse: %.2f' % (accuracy))\n",
    "\n",
    "# make class predictions with the model\n",
    "predictions = model2.predict(np.array(input_model2))\n",
    "# summarize the first 5 cases\n",
    "for i in range(10):\n",
    "    print('%f (expected %d)' % (predictions[i], y_model2[i]))\n"
   ]
  },
  {
   "cell_type": "code",
   "execution_count": 24,
   "metadata": {
    "colab": {},
    "colab_type": "code",
    "id": "injeDFcNw0vE"
   },
   "outputs": [
    {
     "name": "stdout",
     "output_type": "stream",
     "text": [
      "30/30 [==============================] - 0s 3ms/step\n",
      "Mse: 0.00\n",
      "0.972560 (expected 1)\n",
      "0.974336 (expected 1)\n",
      "0.975414 (expected 1)\n",
      "0.975366 (expected 1)\n",
      "0.975085 (expected 1)\n",
      "0.975375 (expected 1)\n",
      "0.975496 (expected 1)\n",
      "0.975500 (expected 1)\n",
      "0.975549 (expected 1)\n",
      "0.975580 (expected 1)\n"
     ]
    }
   ],
   "source": [
    "y_model3 = []\n",
    "\n",
    "for i in range(len(input_model3)):\n",
    "  y_model3.append(1)\n",
    "\n",
    "model3.add(Dense(20, input_dim=3, activation='linear'))\n",
    "model3.add(Dense(1, activation='tanh'))\n",
    "\n",
    "model3.compile(loss='mse', optimizer=opt, metrics=['mse'])\n",
    "\n",
    "model3.fit(np.array(input_model3), y_model3, epochs=300, batch_size=9, verbose=0)\n",
    "\n",
    "_, accuracy = model3.evaluate(np.array(input_model3), y_model3)\n",
    "print('Mse: %.2f' % (accuracy))\n",
    "\n",
    "# make class predictions with the model\n",
    "predictions = model3.predict(np.array(input_model3))\n",
    "# summarize the first 5 cases\n",
    "for i in range(10):\n",
    "    print('%f (expected %d)' % (predictions[i], y_model3[i]))\n"
   ]
  },
  {
   "cell_type": "code",
   "execution_count": 25,
   "metadata": {
    "colab": {},
    "colab_type": "code",
    "id": "nwJgDLRWw3us"
   },
   "outputs": [
    {
     "name": "stdout",
     "output_type": "stream",
     "text": [
      "30/30 [==============================] - 0s 3ms/step\n",
      "Mse: 0.00\n",
      "0.876426 (expected 1)\n",
      "0.976145 (expected 1)\n",
      "0.995607 (expected 1)\n",
      "0.999193 (expected 1)\n",
      "0.937440 (expected 1)\n",
      "0.988262 (expected 1)\n",
      "0.997844 (expected 1)\n",
      "0.968907 (expected 1)\n",
      "0.994242 (expected 1)\n",
      "0.998947 (expected 1)\n"
     ]
    }
   ],
   "source": [
    "y_model4 = []\n",
    "\n",
    "for i in range(len(input_model4)):\n",
    "  y_model4.append(1)\n",
    "\n",
    "model4.add(Dense(20, input_dim=3, activation='linear'))\n",
    "model4.add(Dense(1, activation='tanh'))\n",
    "\n",
    "model4.compile(loss='mse', optimizer=opt, metrics=['mse'])\n",
    "\n",
    "model4.fit(np.array(input_model4), y_model4, epochs=300, batch_size=9, verbose=0)\n",
    "\n",
    "_, accuracy = model4.evaluate(np.array(input_model4), y_model4)\n",
    "print('Mse: %.2f' % (accuracy))\n",
    "\n",
    "# make class predictions with the model\n",
    "predictions = model4.predict(np.array(input_model4))\n",
    "# summarize the first 5 cases\n",
    "for i in range(10):\n",
    "    print('%f (expected %d)' % (predictions[i], y_model4[i]))\n"
   ]
  },
  {
   "cell_type": "code",
   "execution_count": 26,
   "metadata": {
    "colab": {},
    "colab_type": "code",
    "id": "h8TQ6Krsw56L"
   },
   "outputs": [
    {
     "name": "stdout",
     "output_type": "stream",
     "text": [
      "30/30 [==============================] - 0s 3ms/step\n",
      "Mse: 0.00\n",
      "0.999427 (expected 1)\n",
      "0.990324 (expected 1)\n",
      "0.999801 (expected 1)\n",
      "0.999882 (expected 1)\n",
      "0.923508 (expected 1)\n",
      "0.979940 (expected 1)\n",
      "0.997773 (expected 1)\n",
      "0.999984 (expected 1)\n",
      "0.999882 (expected 1)\n",
      "0.999626 (expected 1)\n"
     ]
    }
   ],
   "source": [
    "y_model5 = []\n",
    "\n",
    "for i in range(len(input_model5)):\n",
    "  y_model5.append(1)\n",
    "\n",
    "model5.add(Dense(20, input_dim=3, activation='linear'))\n",
    "model5.add(Dense(1, activation='tanh'))\n",
    "\n",
    "model5.compile(loss='mse', optimizer=opt, metrics=['mse'])\n",
    "\n",
    "model5.fit(np.array(input_model5), y_model5, epochs=300, batch_size=9, verbose=0)\n",
    "\n",
    "_, accuracy = model5.evaluate(np.array(input_model5), y_model5)\n",
    "print('Mse: %.2f' % (accuracy))\n",
    "\n",
    "# make class predictions with the model\n",
    "predictions = model5.predict(np.array(input_model5))\n",
    "# summarize the first 5 cases\n",
    "for i in range(10):\n",
    "    print('%f (expected %d)' % (predictions[i], y_model5[i]))\n"
   ]
  },
  {
   "cell_type": "code",
   "execution_count": 27,
   "metadata": {
    "colab": {},
    "colab_type": "code",
    "id": "aEZ0PuNUw8Ab"
   },
   "outputs": [
    {
     "name": "stdout",
     "output_type": "stream",
     "text": [
      "30/30 [==============================] - 0s 3ms/step\n",
      "Mse: 0.00\n",
      "0.956178 (expected 1)\n",
      "0.970013 (expected 1)\n",
      "0.993315 (expected 1)\n",
      "0.998523 (expected 1)\n",
      "0.941814 (expected 1)\n",
      "0.986882 (expected 1)\n",
      "0.998345 (expected 1)\n",
      "0.974340 (expected 1)\n",
      "0.994289 (expected 1)\n",
      "0.998739 (expected 1)\n"
     ]
    }
   ],
   "source": [
    "y_model6 = []\n",
    "\n",
    "for i in range(len(input_model6)):\n",
    "  y_model6.append(1)\n",
    "\n",
    "model6.add(Dense(20, input_dim=3, activation='linear'))\n",
    "model6.add(Dense(1, activation='tanh'))\n",
    "\n",
    "model6.compile(loss='mse', optimizer=opt, metrics=['mse'])\n",
    "\n",
    "model6.fit(np.array(input_model6), y_model6, epochs=300, batch_size=9, verbose=0)\n",
    "\n",
    "_, accuracy = model6.evaluate(np.array(input_model6), y_model6)\n",
    "print('Mse: %.2f' % (accuracy))\n",
    "\n",
    "# make class predictions with the model\n",
    "predictions = model6.predict(np.array(input_model6))\n",
    "# summarize the first 5 cases\n",
    "for i in range(10):\n",
    "    print('%f (expected %d)' % (predictions[i], y_model6[i]))\n"
   ]
  },
  {
   "cell_type": "code",
   "execution_count": 28,
   "metadata": {
    "colab": {},
    "colab_type": "code",
    "id": "B7Jqv8LBw9z7"
   },
   "outputs": [
    {
     "name": "stdout",
     "output_type": "stream",
     "text": [
      "30/30 [==============================] - 0s 3ms/step\n",
      "Mse: 0.00\n",
      "0.999845 (expected 1)\n",
      "0.979629 (expected 1)\n",
      "0.999873 (expected 1)\n",
      "0.999689 (expected 1)\n",
      "0.951944 (expected 1)\n",
      "0.999959 (expected 1)\n",
      "0.999255 (expected 1)\n",
      "0.994669 (expected 1)\n",
      "0.986976 (expected 1)\n",
      "0.995636 (expected 1)\n"
     ]
    }
   ],
   "source": [
    "y_model7 = []\n",
    "\n",
    "for i in range(len(input_model7)):\n",
    "  y_model7.append(1)\n",
    "\n",
    "model7.add(Dense(20, input_dim=3, activation='linear'))\n",
    "model7.add(Dense(1, activation='tanh'))\n",
    "\n",
    "model7.compile(loss='mse', optimizer=opt, metrics=['mse'])\n",
    "\n",
    "model7.fit(np.array(input_model7), y_model7, epochs=300, batch_size=9, verbose=0)\n",
    "\n",
    "_, accuracy = model7.evaluate(np.array(input_model7), y_model7)\n",
    "print('Mse: %.2f' % (accuracy))\n",
    "\n",
    "# make class predictions with the model\n",
    "predictions = model7.predict(np.array(input_model7))\n",
    "# summarize the first 5 cases\n",
    "for i in range(10):\n",
    "    print('%f (expected %d)' % (predictions[i], y_model7[i]))\n"
   ]
  },
  {
   "cell_type": "code",
   "execution_count": 29,
   "metadata": {
    "colab": {},
    "colab_type": "code",
    "id": "6l6axcRow_o6"
   },
   "outputs": [
    {
     "name": "stdout",
     "output_type": "stream",
     "text": [
      "30/30 [==============================] - 0s 3ms/step\n",
      "Mse: 0.00\n",
      "0.986417 (expected 1)\n",
      "0.874093 (expected 1)\n",
      "0.971295 (expected 1)\n",
      "0.998633 (expected 1)\n",
      "0.977694 (expected 1)\n",
      "0.953091 (expected 1)\n",
      "0.997746 (expected 1)\n",
      "0.991968 (expected 1)\n",
      "0.982973 (expected 1)\n",
      "0.999194 (expected 1)\n"
     ]
    }
   ],
   "source": [
    "y_model8 = []\n",
    "\n",
    "for i in range(len(input_model8)):\n",
    "  y_model8.append(1)\n",
    "\n",
    "model8.add(Dense(20, input_dim=3, activation='linear'))\n",
    "model8.add(Dense(1, activation='tanh'))\n",
    "\n",
    "model8.compile(loss='mse', optimizer=opt, metrics=['mse'])\n",
    "\n",
    "model8.fit(np.array(input_model8), y_model8, epochs=300, batch_size=9, verbose=0)\n",
    "\n",
    "_, accuracy = model8.evaluate(np.array(input_model8), y_model8)\n",
    "print('Mse: %.2f' % (accuracy))\n",
    "\n",
    "# make class predictions with the model\n",
    "predictions = model8.predict(np.array(input_model8))\n",
    "# summarize the first 5 cases\n",
    "for i in range(10):\n",
    "    print('%f (expected %d)' % (predictions[i], y_model8[i]))\n"
   ]
  },
  {
   "cell_type": "code",
   "execution_count": 30,
   "metadata": {
    "colab": {},
    "colab_type": "code",
    "id": "AML5ENanxBsa"
   },
   "outputs": [
    {
     "name": "stdout",
     "output_type": "stream",
     "text": [
      "30/30 [==============================] - 0s 3ms/step\n",
      "Mse: 0.00\n",
      "0.885769 (expected 1)\n",
      "0.997204 (expected 1)\n",
      "0.973804 (expected 1)\n",
      "0.999387 (expected 1)\n",
      "0.991508 (expected 1)\n",
      "0.922291 (expected 1)\n",
      "0.998133 (expected 1)\n",
      "0.974356 (expected 1)\n",
      "0.999400 (expected 1)\n",
      "0.996059 (expected 1)\n"
     ]
    }
   ],
   "source": [
    "y_model9 = []\n",
    "\n",
    "for i in range(len(input_model9)):\n",
    "  y_model9.append(1)\n",
    "\n",
    "model9.add(Dense(20, input_dim=3, activation='linear'))\n",
    "model9.add(Dense(1, activation='tanh'))\n",
    "\n",
    "model9.compile(loss='mse', optimizer=opt, metrics=['mse'])\n",
    "\n",
    "model9.fit(np.array(input_model9), y_model9, epochs=300, batch_size=9, verbose=0)\n",
    "\n",
    "_, accuracy = model9.evaluate(np.array(input_model9), y_model9)\n",
    "print('Mse: %.2f' % (accuracy))\n",
    "\n",
    "# make class predictions with the model\n",
    "predictions = model9.predict(np.array(input_model9))\n",
    "# summarize the first 5 cases\n",
    "for i in range(10):\n",
    "    print('%f (expected %d)' % (predictions[i], y_model9[i]))\n"
   ]
  },
  {
   "cell_type": "code",
   "execution_count": 31,
   "metadata": {
    "colab": {},
    "colab_type": "code",
    "id": "BOEe1UOuxEJa"
   },
   "outputs": [
    {
     "name": "stdout",
     "output_type": "stream",
     "text": [
      "30/30 [==============================] - 0s 4ms/step\n",
      "Mse: 0.00\n",
      "0.982202 (expected 1)\n",
      "0.905966 (expected 1)\n",
      "0.997591 (expected 1)\n",
      "0.999623 (expected 1)\n",
      "0.963066 (expected 1)\n",
      "0.999081 (expected 1)\n",
      "0.994960 (expected 1)\n",
      "0.989468 (expected 1)\n",
      "0.998346 (expected 1)\n",
      "0.999741 (expected 1)\n"
     ]
    }
   ],
   "source": [
    "y_model10 = []\n",
    "\n",
    "for i in range(len(input_model10)):\n",
    "  y_model10.append(1)\n",
    "\n",
    "model10.add(Dense(20, input_dim=3, activation='linear'))\n",
    "model10.add(Dense(20))\n",
    "model10.add(Dense(1, activation='tanh'))\n",
    "\n",
    "model10.compile(loss='mse', optimizer=opt, metrics=['mse'])\n",
    "\n",
    "model10.fit(np.array(input_model10), y_model10, epochs=300, batch_size=9, verbose=0)\n",
    "\n",
    "_, accuracy = model10.evaluate(np.array(input_model10), y_model10)\n",
    "print('Mse: %.2f' % (accuracy))\n",
    "\n",
    "# make class predictions with the model\n",
    "predictions = model10.predict(np.array(input_model10))\n",
    "# summarize the first 5 cases\n",
    "for i in range(10):\n",
    "    print('%f (expected %d)' % (predictions[i], y_model10[i]))\n"
   ]
  },
  {
   "cell_type": "code",
   "execution_count": 32,
   "metadata": {
    "colab": {},
    "colab_type": "code",
    "id": "MMYPI5V_xFpS"
   },
   "outputs": [
    {
     "name": "stdout",
     "output_type": "stream",
     "text": [
      "30/30 [==============================] - 0s 4ms/step\n",
      "Mse: 0.00\n",
      "0.950624 (expected 1)\n",
      "0.884939 (expected 1)\n",
      "0.995635 (expected 1)\n",
      "0.999172 (expected 1)\n",
      "0.918993 (expected 1)\n",
      "0.996980 (expected 1)\n",
      "0.992732 (expected 1)\n",
      "0.987908 (expected 1)\n",
      "0.997700 (expected 1)\n",
      "0.999564 (expected 1)\n"
     ]
    }
   ],
   "source": [
    "y_model11 = []\n",
    "\n",
    "for i in range(len(input_model11)):\n",
    "  y_model11.append(1)\n",
    "\n",
    "model11.add(Dense(20, input_dim=3, activation='linear'))\n",
    "model11.add(Dense(1, activation='tanh'))\n",
    "\n",
    "model11.compile(loss='mse', optimizer=opt, metrics=['mse'])\n",
    "\n",
    "model11.fit(np.array(input_model11), y_model11, epochs=300, batch_size=9, verbose=0)\n",
    "\n",
    "_, accuracy = model11.evaluate(np.array(input_model11), y_model11)\n",
    "print('Mse: %.2f' % (accuracy))\n",
    "\n",
    "# make class predictions with the model\n",
    "predictions = model11.predict(np.array(input_model11))\n",
    "# summarize the first 5 cases\n",
    "for i in range(10):\n",
    "    print('%f (expected %d)' % (predictions[i], y_model11[i]))"
   ]
  },
  {
   "cell_type": "code",
   "execution_count": 0,
   "metadata": {
    "colab": {},
    "colab_type": "code",
    "id": "dTsdyBHbfqWF"
   },
   "outputs": [],
   "source": [
    "\n",
    "modelFinal = Sequential()\n",
    "modelFinal.add(Dense(3, weights=model1 ))\n"
   ]
  }
 ],
 "metadata": {
  "colab": {
   "name": "Questao_2.ipynb",
   "provenance": []
  },
  "kernelspec": {
   "display_name": "Python 3",
   "language": "python",
   "name": "python3"
  },
  "language_info": {
   "codemirror_mode": {
    "name": "ipython",
    "version": 3
   },
   "file_extension": ".py",
   "mimetype": "text/x-python",
   "name": "python",
   "nbconvert_exporter": "python",
   "pygments_lexer": "ipython3",
   "version": "3.7.4"
  }
 },
 "nbformat": 4,
 "nbformat_minor": 1
}
